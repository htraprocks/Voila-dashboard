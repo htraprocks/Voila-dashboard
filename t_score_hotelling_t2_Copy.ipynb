{
 "cells": [
  {
   "cell_type": "code",
   "execution_count": 1,
   "metadata": {
    "scrolled": false
   },
   "outputs": [],
   "source": [
    "from seeq import spy\n",
    "import numpy as np\n",
    "import pandas as pd\n",
    "import pylab as pl\n",
    "import asyncio\n",
    "import threading\n",
    "\n",
    "import matplotlib.pyplot as plt\n",
    "%matplotlib inline\n",
    "\n",
    "import seaborn as sns\n",
    "\n",
    "from PIL import Image\n",
    "\n",
    "from bqplot import pyplot as bq\n",
    "from bqplot import ColorScale\n",
    "\n",
    "import ipywidgets as widgets\n",
    "from ipywidgets import interactive,interact,Output\n",
    "\n",
    "import functools\n",
    "\n",
    "# from datetime import datetime,date,time,tzinfo\n",
    "import datetime\n",
    "import time\n",
    "\n",
    "from sklearn.preprocessing import StandardScaler\n",
    "from sklearn.decomposition import PCA\n",
    "from sklearn.model_selection import train_test_split\n",
    "\n",
    "from IPython.display import display,clear_output,HTML\n",
    "\n",
    "from voila.app import Voila"
   ]
  },
  {
   "cell_type": "code",
   "execution_count": 2,
   "metadata": {
    "scrolled": false
   },
   "outputs": [],
   "source": [
    "def seeq_login():\n",
    "    spy.login(credentials_file='../credentials_file.txt',\n",
    "              url='https://explore.seeq.com',\n",
    "              directory='Seeq', \n",
    "              ignore_ssl_errors=True)\n",
    "    print('Login Successful')"
   ]
  },
  {
   "cell_type": "code",
   "execution_count": 3,
   "metadata": {
    "scrolled": false
   },
   "outputs": [],
   "source": [
    "def query_seeq_for_data():\n",
    "    item1=spy.search({\n",
    "            'Name': 'Temperature',\n",
    "            'Path': 'Example >> Cooling Tower 1',\n",
    "            'Type': 'StoredSignal'\n",
    "\n",
    "             },all_properties=True)\n",
    "    \n",
    "    item2=spy.search({\n",
    "        'Name':'Tower 1 Power Production',\n",
    "        'Path': 'Example >> Cooling Tower 1',\n",
    "        #     'Type': 'StoredSignal'\n",
    "        },all_properties=True)\n",
    "    \n",
    "    return item1, item2"
   ]
  },
  {
   "cell_type": "code",
   "execution_count": 4,
   "metadata": {},
   "outputs": [],
   "source": [
    "def pull_seeq_data(item1,item2,start_date,end_date):\n",
    "    \n",
    "    X_data=spy.pull(item1,start=start_date,end=end_date,grid='10min')\n",
    "    Y_data=spy.pull(item2,start=start_date,end=end_date,grid='10min')\n",
    "    \n",
    "    return X_data,Y_data"
   ]
  },
  {
   "cell_type": "code",
   "execution_count": 5,
   "metadata": {
    "scrolled": false
   },
   "outputs": [],
   "source": [
    "def start_end_dummy_data():\n",
    "    start_date='2020-01-01T12:00:00'\n",
    "#     end_date='2020-01-10T12:00:00'\n",
    "    end_date=datetime.datetime(2020,1,10,12,00,00)\n",
    "    \n",
    "    return start_date, end_date\n",
    "\n",
    "[start_date,end_date]=start_end_dummy_data()"
   ]
  },
  {
   "cell_type": "code",
   "execution_count": 6,
   "metadata": {},
   "outputs": [],
   "source": [
    "out=widgets.Output()"
   ]
  },
  {
   "cell_type": "code",
   "execution_count": 7,
   "metadata": {},
   "outputs": [],
   "source": [
    "def train_test(X_data,Y_data):\n",
    "    X_train,X_test,Y_train,Y_test=train_test_split(X_data,Y_data,test_size=0.6,random_state=0)\n",
    "    \n",
    "    return  X_train,X_test,Y_train,Y_test"
   ]
  },
  {
   "cell_type": "code",
   "execution_count": 8,
   "metadata": {},
   "outputs": [],
   "source": [
    "def apply_PCA(X_data):\n",
    "    scaler=StandardScaler()\n",
    "    X_train=scaler.fit_transform(X_data)\n",
    "#     X_test=scaler.transform(X_test)\n",
    "    \n",
    "    apply_PCA.pca=PCA()\n",
    "    apply_PCA.pca.fit(X_data)\n",
    "    Xp_data=apply_PCA.pca.transform(X_data)\n",
    "    \n",
    "    components=apply_PCA.pca.components_\n",
    "    explained_variance_ratio=apply_PCA.pca.explained_variance_ratio_\n",
    "    explained_variance=apply_PCA.pca.explained_variance_[0:5]\n",
    "    n_components=apply_PCA.pca.n_components_\n",
    "    \n",
    "    return Xp_data,components,explained_variance_ratio,explained_variance,n_components"
   ]
  },
  {
   "cell_type": "code",
   "execution_count": 9,
   "metadata": {},
   "outputs": [],
   "source": [
    "def plot_PC_variance(X_data,explained_variance_ratio):\n",
    "    Np_comp=(1,len(X_data.columns),1)\n",
    "    @interact(layout={'width':'10px'})\n",
    "    def pca_comp_var(Np=Np_comp):\n",
    "        fig,ax=plt.subplots(1,1,figsize=(10,10))\n",
    "        plt.figure(4)\n",
    "        ax.set_xlabel('Principal Components')\n",
    "        ax.set_ylabel('Explained Variance')\n",
    "\n",
    "        ax.plot(np.arange(Np),explained_variance_ratio[0:Np],label='variance explained by each component')\n",
    "        ax.bar(np.arange(Np),explained_variance_ratio[0:Np],label='Bar plot for explained var for each comp')\n",
    "        ax.plot(np.arange(Np),np.cumsum(explained_variance_ratio[0:Np]),label='Cumulative variance explained')\n",
    "        ax.legend(loc='upper left')"
   ]
  },
  {
   "cell_type": "code",
   "execution_count": 10,
   "metadata": {},
   "outputs": [],
   "source": [
    "def plot_PC(X_data,components):\n",
    "    Np_comp=(1,len(X_data.columns),1)\n",
    "    @interact\n",
    "    def principal_components(PC1=Np_comp,PC2=Np_comp):\n",
    "        fig,ax=plt.subplots(1,1,figsize=(10,10))\n",
    "        plt.figure(5)\n",
    "        print(PC1, PC2)\n",
    "\n",
    "        ax.set_xlabel(\"Principal Component {}\".format(PC1), fontsize=14)\n",
    "        ax.set_ylabel(\"Principal Component {}\".format(PC2), fontsize=14)\n",
    "        ax.set_title(\"Principal components {0} & {1}\".format(PC1,PC2), fontsize=(20))\n",
    "        ax.scatter(components[:,PC1],components[:,PC2])"
   ]
  },
  {
   "cell_type": "code",
   "execution_count": 11,
   "metadata": {},
   "outputs": [],
   "source": [
    "def plot_tscore(X_data,Xp_data,components):\n",
    "    Np_comp=(1,len(X_data.columns),1)\n",
    "    t_score=np.matmul(Xp_data,components.T)\n",
    "    len(t_score[:,2])\n",
    "    @interact\n",
    "    def t_scores(t1=Np_comp,t2=Np_comp):\n",
    "        fig,ax=plt.subplots(1,1,figsize=(10,10))\n",
    "        plt.figure(6)\n",
    "        ax.set_title(\"t{0} & t{1} scores\".format(t1,t2),fontsize=20)\n",
    "        ax.set_xlabel(\"t{} score\".format(t1),fontsize=14)\n",
    "        ax.set_ylabel(\"t{} score\".format(t2),fontsize=14)\n",
    "        ax.scatter(t_score[:,t1],t_score[:,t2])\n",
    "        \n",
    "    return t_score"
   ]
  },
  {
   "cell_type": "code",
   "execution_count": 12,
   "metadata": {},
   "outputs": [],
   "source": [
    "def plot_hotelling(X_data,t_score,explained_variance_ratio):\n",
    "    Np_comp=(1,len(X_data.columns),1)\n",
    "    print(\"Hotelling valid\")\n",
    "    \n",
    "    @interact\n",
    "    def hotelling(N=Np_comp):\n",
    "        n=[np.square(t_score[:,i])/explained_variance_ratio[i] for i in range(N)]\n",
    "        fig,ax=plt.subplots(1,1,figsize=(10,10))\n",
    "        plt.figure(7)\n",
    "        ax.set_title(\"Hotelling T2-First {} Components\".format(N),fontsize=20)\n",
    "        ax.set_xlabel(\"Time\",fontsize=14)\n",
    "        ax.set_ylabel(\"Hotelling Metric\",fontsize=14)\n",
    "        ax.plot(sum(n))"
   ]
  },
  {
   "cell_type": "code",
   "execution_count": 13,
   "metadata": {},
   "outputs": [],
   "source": [
    "out2=widgets.Output()"
   ]
  },
  {
   "cell_type": "code",
   "execution_count": 14,
   "metadata": {
    "scrolled": false
   },
   "outputs": [
    {
     "data": {
      "application/vnd.jupyter.widget-view+json": {
       "model_id": "5795da48521848cc96c94597cac49252",
       "version_major": 2,
       "version_minor": 0
      },
      "text/plain": [
       "interactive(children=(DatePicker(value=Timestamp('2020-01-01 12:00:00'), description='start_date'), DatePicker…"
      ]
     },
     "metadata": {},
     "output_type": "display_data"
    }
   ],
   "source": [
    "def data_import_date(start_date,end_date):\n",
    "    end_date1=end_date.strftime('%Y-%m-%dT%H:%M:%S')\n",
    "    start_date=pd.Timestamp(start_date)\n",
    "    end_date=pd.Timestamp(end_date1)\n",
    "\n",
    "    button=widgets.Button(description='Pull Data')\n",
    "    button.on_click(functools.partial(select_data,rs_=[start_date,end_date]))\n",
    "    \n",
    "    vbox=widgets.VBox([button])\n",
    "    display(vbox,out)\n",
    "    \n",
    "def select_data(b,rs_):\n",
    "#     clear_output()\n",
    "    start_date=rs_[0]\n",
    "    end_date1=rs_[1]\n",
    "    print(\"Data pulling started\")\n",
    "\n",
    "    with out:\n",
    "        clear_output(wait=True)\n",
    "        seeq_login() \n",
    "        [item1,item2]=query_seeq_for_data()\n",
    "        \n",
    "        end_date=end_date1.strftime('%Y-%m-%dT%H:%M:%S')\n",
    "        print(\"Start & End date: \",start_date,end_date)\n",
    "        \n",
    "     \n",
    "        i=0    \n",
    "        while True:\n",
    "            end_date=end_date1.strftime('%Y-%m-%dT%H:%M:%S')\n",
    "\n",
    "            if i==0:\n",
    "                clear_output(wait=True)\n",
    "                [X_data,Y_data]=pull_seeq_data(item1,item2,start_date,end_date)\n",
    "                [Xp_data,components,explained_variance_ratio,_,_]=apply_PCA(X_data)\n",
    "                plot_PC_variance(X_data,explained_variance_ratio)\n",
    "                plot_PC(X_data,components)\n",
    "\n",
    "            else:\n",
    "                [X_data_live,Y_data_live]=pull_seeq_data(item1,item2,start_date,end_date)\n",
    "                X_data=X_data.append(X_data_live)\n",
    "                Y_data=Y_data.append(Y_data_live)\n",
    "                Xp_data=apply_PCA.pca.transform(X_data)\n",
    "                clear_output(wait=True)\n",
    "                display(plot_PC_variance(X_data,explained_variance_ratio))\n",
    "                display(plot_PC(X_data,components))\n",
    "\n",
    "            print(\"Data pulling completed.\\nNow you're ready for your analysis\")\n",
    "\n",
    "            t_score=plot_tscore(X_data,Xp_data,components)\n",
    "            plot_hotelling(X_data,t_score,explained_variance_ratio)\n",
    "\n",
    "            time.sleep(20)\n",
    "            start_date=end_date\n",
    "            end_date1=end_date1+datetime.timedelta(days=1)\n",
    "            i+=1\n",
    "            \n",
    "a=interact(data_import_date,\n",
    "           start_date=widgets.DatePicker(value=pd.to_datetime(start_date)),\n",
    "           end_date=widgets.DatePicker(value=pd.to_datetime(end_date)))"
   ]
  },
  {
   "cell_type": "code",
   "execution_count": 15,
   "metadata": {},
   "outputs": [],
   "source": [
    "# import threading\n",
    "# from IPython.display import display\n",
    "# import ipywidgets as widgets\n",
    "# import time\n",
    "# progress = widgets.FloatProgress(value=0.0, min=0.0, max=1.0)\n",
    "\n",
    "# def work(progress):\n",
    "#     total = 100\n",
    "#     for i in range(total):\n",
    "#         time.sleep(0.2)\n",
    "#         progress.value = float(i+1)/total\n",
    "\n",
    "# thread = threading.Thread(target=work, args=(progress,))\n",
    "# display(progress)\n",
    "# thread.start()"
   ]
  },
  {
   "cell_type": "code",
   "execution_count": null,
   "metadata": {},
   "outputs": [],
   "source": []
  }
 ],
 "metadata": {
  "kernelspec": {
   "display_name": "Python 3",
   "language": "python",
   "name": "python3"
  },
  "language_info": {
   "codemirror_mode": {
    "name": "ipython",
    "version": 3
   },
   "file_extension": ".py",
   "mimetype": "text/x-python",
   "name": "python",
   "nbconvert_exporter": "python",
   "pygments_lexer": "ipython3",
   "version": "3.7.6"
  }
 },
 "nbformat": 4,
 "nbformat_minor": 4
}
